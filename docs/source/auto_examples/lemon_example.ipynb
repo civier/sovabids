{
  "cells": [
    {
      "cell_type": "code",
      "execution_count": null,
      "metadata": {
        "collapsed": false
      },
      "outputs": [],
      "source": [
        "%matplotlib inline"
      ]
    },
    {
      "cell_type": "markdown",
      "metadata": {},
      "source": [
        "\n# LEMON dataset example\n\nThis example illustrates the use of ``sovabids`` on the `LEMON dataset <http://fcon_1000.projects.nitrc.org/indi/retro/MPI_LEMON.html>`_\nusing the python API.\n\nThe main elements of this example are:\n    * A source path with the original dataset.\n    * A bids path that will be the output path of the conversion.\n    * A rules file that configures how the conversion is done.\n    * A mapping file that encodes how the conversion is performed to each individual file of the dataset.\n\n.. mermaid::\n\n    graph LR\n        S>\"Source path\"]\n        B>\"Bids path\"]\n        R>\"Rules file\"]\n        AR((\"Apply Rules\"))\n        M>\"Mappings file\"]\n        CT((\"Convert Them\"))\n        O[(\"Converted dataset\")]\n        S --> AR\n        B --> AR\n        R --> AR\n        AR --> M\n        M --> CT\n        CT --> O\n"
      ]
    },
    {
      "cell_type": "markdown",
      "metadata": {},
      "source": [
        "## Imports\nFirst we import some functions we will need:\n\n"
      ]
    },
    {
      "cell_type": "code",
      "execution_count": null,
      "metadata": {
        "collapsed": false
      },
      "outputs": [],
      "source": [
        "import os # For path manipulation\nimport shutil # File manipulation\nfrom mne_bids import print_dir_tree # To show the input/output directories structures inside this example\nfrom sovabids.utils import get_project_dir # Getting a directory to get the dataset files\nfrom sovabids.rules import apply_rules # Apply rules for conversion\nimport yaml # Just to print the rules in the example\nfrom sovabids.convert import convert_them # Do the conversion\nfrom sovabids.datasets import lemon_prepare # Download the dataset"
      ]
    },
    {
      "cell_type": "markdown",
      "metadata": {},
      "source": [
        "## Getting and preparing the dataset\nWe have to download and decompress the dataset. We also need to fix a filename inconsistency\n(without this correction the file won't be able to be opened in mne). Luckily all of that is \nencapsulated in the lemon_prepare.py function since these issues are not properly of sovabids. \n\nBy default the files are saved in the '_data' directory of the sovabids project.\n\n"
      ]
    },
    {
      "cell_type": "code",
      "execution_count": null,
      "metadata": {
        "collapsed": false
      },
      "outputs": [],
      "source": [
        "lemon_prepare()"
      ]
    },
    {
      "cell_type": "markdown",
      "metadata": {},
      "source": [
        "## Setting up the paths\nNow we will set up four paths. Because this example is intended to run relative \nto the repository directory we use relative path but for real use-cases it is \neasier to just input the absolute-path. We will print these paths for more clarity.\n\n"
      ]
    },
    {
      "cell_type": "code",
      "execution_count": null,
      "metadata": {
        "collapsed": false
      },
      "outputs": [],
      "source": [
        "source_path = os.path.abspath(os.path.join(get_project_dir(),'_data','lemon')) # For the input data we will convert\nbids_root= os.path.abspath(os.path.join(get_project_dir(),'_data','lemon_bids')) # The output directory that will have the converted data\nrules_path = os.path.abspath(os.path.join(get_project_dir(),'examples','lemon_example_rules.yml')) # The rules file that setups the rule for conversion\nmapping_path = os.path.abspath(os.path.join(bids_root,'code','sovabids','mappings.yml')) # The mapping file that will hold the results of applying the rules to each file\n\nprint('source_path:',source_path)\nprint('bids_root:', bids_root)\nprint('rules_path:',rules_path)\nprint('mapping_path:',mapping_path)"
      ]
    },
    {
      "cell_type": "markdown",
      "metadata": {},
      "source": [
        "## Cleaning the output directory\nWe will clean the output path as a safety measure from previous conversions.\n\n"
      ]
    },
    {
      "cell_type": "code",
      "execution_count": null,
      "metadata": {
        "collapsed": false
      },
      "outputs": [],
      "source": [
        "try:\n    shutil.rmtree(bids_root)\nexcept:\n    pass"
      ]
    },
    {
      "cell_type": "markdown",
      "metadata": {},
      "source": [
        "## The input directory\nFor clarity purposes we will print here the directory we are trying to convert to BIDS.\n\n"
      ]
    },
    {
      "cell_type": "code",
      "execution_count": null,
      "metadata": {
        "collapsed": false
      },
      "outputs": [],
      "source": [
        "print_dir_tree(source_path)"
      ]
    },
    {
      "cell_type": "markdown",
      "metadata": {},
      "source": [
        "## Making the rules\nThe most important and complicated part of this is making the rules file, \neither by hand or by the \"DISCOVER_RULES\" module (which is not yet implemented).\n\nTo do it by hand we need to understand the schema of the file. For starts, \nthe file is written in yaml. As of now the purpose of this example is not to teach yaml \n(we may have a dedicated file for that in the future). You can check this `link <https://www.cloudbees.com/blog/yaml-tutorial-everything-you-need-get-started>`_ though.\n\nsovabids works with setting up (the currently supported) parts of bids.\n\nThe bids eeg specification setups mainly 6 files:\n   - dataset_description\n   - sidecar\n   - channels\n   - electrodes\n   - coordinate system\n   - events\n\nThe currently supported files are: \n   - dataset_description : https://bids-specification.readthedocs.io/en/stable/03-modality-agnostic-files.html#dataset_descriptionjson\n   - sidecar : https://bids-specification.readthedocs.io/en/stable/04-modality-specific-files/03-electroencephalography.html#sidecar-json-_eegjson\n   - channels : https://bids-specification.readthedocs.io/en/stable/04-modality-specific-files/03-electroencephalography.html#channels-description-_channelstsv\n\nFor each of these files, the yaml will have an object with its corresponding \"child\" properties.\n\nBesides these \"file\" objects, the yaml will have an \"entities\" object.\nAlthough it seems a bit obscure, \"entities\" is just the name bids gives to the properties that affect file name structure.\nMore info at: https://bids-specification.readthedocs.io/en/stable/02-common-principles.html#file-name-structure\nIn essence the \"entities\" object holds information that triangulates the file \nin the study (subject,session,task,acquisition,run).\n\nAt last, we have the \"non-bids\" object which setups additional configuration that do not clearly belong to one of the previous objects.\n\nThis part is already done for you, but for clarification here are the rules \nwe are applying. Please read the following as the yaml documents itself.\n\n"
      ]
    },
    {
      "cell_type": "code",
      "execution_count": null,
      "metadata": {
        "collapsed": false
      },
      "outputs": [],
      "source": [
        "with open(rules_path,encoding=\"utf-8\") as f:\n    rules = f.read()\n    print(rules)"
      ]
    },
    {
      "cell_type": "markdown",
      "metadata": {},
      "source": [
        "## Applying the rules\nWe apply the rules to the input dataset by giving the input,ouput,rules, and mapping paths to the apply_rules function.\nThis will produce by default a 'mappings.yml' file at the specified directory of 'bids_root/code/sovabids'.\nThis file holds the result of applying the rules to each of the dataset files.\n\n"
      ]
    },
    {
      "cell_type": "code",
      "execution_count": null,
      "metadata": {
        "collapsed": false
      },
      "outputs": [],
      "source": [
        "apply_rules(source_path,bids_root,rules_path,mapping_path)"
      ]
    },
    {
      "cell_type": "markdown",
      "metadata": {},
      "source": [
        "## Doing the conversion\nWe now do the conversion of the dataset by reading the mapping file ('mappings.yml') with the convert them module.\n\n"
      ]
    },
    {
      "cell_type": "code",
      "execution_count": null,
      "metadata": {
        "collapsed": false
      },
      "outputs": [],
      "source": [
        "convert_them(mapping_path)"
      ]
    },
    {
      "cell_type": "markdown",
      "metadata": {},
      "source": [
        "## Checking the conversion\nFor clarity purposes we will check the output directory we got from sovabids.\n\n"
      ]
    },
    {
      "cell_type": "code",
      "execution_count": null,
      "metadata": {
        "collapsed": false
      },
      "outputs": [],
      "source": [
        "print_dir_tree(bids_root)\n\nprint('LEMON CONVERSION FINISHED!')"
      ]
    }
  ],
  "metadata": {
    "kernelspec": {
      "display_name": "Python 3",
      "language": "python",
      "name": "python3"
    },
    "language_info": {
      "codemirror_mode": {
        "name": "ipython",
        "version": 3
      },
      "file_extension": ".py",
      "mimetype": "text/x-python",
      "name": "python",
      "nbconvert_exporter": "python",
      "pygments_lexer": "ipython3",
      "version": "3.8.10"
    }
  },
  "nbformat": 4,
  "nbformat_minor": 0
}